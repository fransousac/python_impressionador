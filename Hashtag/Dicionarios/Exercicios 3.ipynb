{
 "cells": [
  {
   "cell_type": "markdown",
   "metadata": {},
   "source": [
    "### Exercício 1\n",
    "Crie um sistema de consulta de preços\n",
    "Seu sistema deve:\n",
    "- Pedir para o usuário o nome de um produto\n",
    "- Caso o produto exista na lista de produtos, o programa deve retornar o preço do produto como resposta\n",
    "       - Ex: O produto celular custa R$1500\n",
    "- Caso o produto não exista na lista de produtos, o programa deve printar uma mensagem para o usuário tentar novamente\n"
   ]
  },
  {
   "cell_type": "code",
   "execution_count": 19,
   "metadata": {},
   "outputs": [
    {
     "name": "stdout",
     "output_type": "stream",
     "text": [
      "O celular custa R$1500\n"
     ]
    }
   ],
   "source": [
    "precos = {\"celular\": 1500, \"camera\": 1000, \"fone de ouvido\": 800, \"monitor\": 2000}\n",
    "\n",
    "produto = input('Digite o produto desejado: ')\n",
    "produto = produto.lower() # Tratamento para gerenciar letras maiusculas e minusculas\n",
    "if produto in precos:\n",
    "     print('O {} custa R${}'.format(produto, precos[produto]))\n",
    "else:\n",
    "     print('Produto não existe na lista. Digite novamente o produto')\n",
    "\n",
    "  \n",
    "\n"
   ]
  },
  {
   "cell_type": "markdown",
   "metadata": {},
   "source": [
    "\n",
    "### Exercício 2\n",
    "Agora edite o programa anterior para fazer com que, caso não exista o produto, o programa pergunte se o usuário quer cadastrar o produto\n",
    "<br>Se ele responder sim, o programa deve pedir o nome do produto e o preco do produto e cadastrar no dicionário de preços\n",
    "<br>Em seguida do cadastro bem sucedido, o programa deve printar o dicionário de precos atualizado\n"
   ]
  },
  {
   "cell_type": "code",
   "execution_count": 23,
   "metadata": {},
   "outputs": [
    {
     "name": "stdout",
     "output_type": "stream",
     "text": [
      "Produto não encontrado, tente novamente\n"
     ]
    }
   ],
   "source": [
    "precos = {\"celular\": 1500, \"camera\": 1000, \"fone de ouvido\": 800, \"monitor\": 2000}\n",
    "\n",
    "produto = input('Digite o produto desejado: ')\n",
    "produto = produto.lower() # Tratamento para gerenciar letras maiusculas e minusculas\n",
    "if produto in precos:\n",
    "     print('O {} custa R${}'.format(produto, precos[produto]))\n",
    "else:\n",
    "     cadastro = input('Deseja cadastrar o produto?: (S/ N) ')\n",
    "     if cadastro.lower() == 's':\n",
    "        preco = float(input(f\"Digite o preço do {produto} (apenas números)\"))\n",
    "        precos[produto] = preco\n",
    "        print(precos)\n",
    "     else:\n",
    "        print(\"Produto não encontrado, tente novamente\")\n",
    "\n",
    "\n",
    "\n",
    "\n",
    "\n",
    "    "
   ]
  },
  {
   "cell_type": "markdown",
   "metadata": {},
   "source": [
    "### Exercício 3\n",
    "Dada a lista de preços de produtos, uma loja resolveu fazer um reajuste nos preços dos produtos. \n",
    "calcule o novo valor dos produtos com base nas seguintes regras:\n",
    "- Preços até 1.000 vão ter um reajuste de 10% (ou seja, o novo preço será 110% do preço atual)\n",
    "- Preços até maiores que 1.000 até 2.000 vão ter reajuste de 15%\n",
    "- Preços acima de 2.000 vão ter reajuste de 20%"
   ]
  },
  {
   "cell_type": "code",
   "execution_count": 3,
   "metadata": {},
   "outputs": [
    {
     "ename": "TypeError",
     "evalue": "string indices must be integers, not 'dict'",
     "output_type": "error",
     "traceback": [
      "\u001b[1;31m---------------------------------------------------------------------------\u001b[0m",
      "\u001b[1;31mTypeError\u001b[0m                                 Traceback (most recent call last)",
      "Cell \u001b[1;32mIn[3], line 4\u001b[0m\n\u001b[0;32m      1\u001b[0m precos \u001b[38;5;241m=\u001b[39m {\u001b[38;5;124m\"\u001b[39m\u001b[38;5;124mcelular\u001b[39m\u001b[38;5;124m\"\u001b[39m: \u001b[38;5;241m1500\u001b[39m, \u001b[38;5;124m\"\u001b[39m\u001b[38;5;124mcamera\u001b[39m\u001b[38;5;124m\"\u001b[39m: \u001b[38;5;241m1000\u001b[39m, \u001b[38;5;124m\"\u001b[39m\u001b[38;5;124mfone de ouvido\u001b[39m\u001b[38;5;124m\"\u001b[39m: \u001b[38;5;241m800\u001b[39m, \u001b[38;5;124m\"\u001b[39m\u001b[38;5;124mmonitor\u001b[39m\u001b[38;5;124m\"\u001b[39m: \u001b[38;5;241m3000\u001b[39m}\n\u001b[0;32m      3\u001b[0m \u001b[38;5;28;01mfor\u001b[39;00m preco \u001b[38;5;129;01min\u001b[39;00m precos:\n\u001b[1;32m----> 4\u001b[0m     \u001b[38;5;28mprint\u001b[39m(\u001b[43mpreco\u001b[49m\u001b[43m[\u001b[49m\u001b[43mprecos\u001b[49m\u001b[43m]\u001b[49m)\n\u001b[0;32m      5\u001b[0m     \u001b[38;5;66;03m# if preco <= 1000:    \u001b[39;00m\n\u001b[0;32m      6\u001b[0m     \u001b[38;5;66;03m#  novopreco = preco * 1.1\u001b[39;00m\n\u001b[0;32m      7\u001b[0m     \u001b[38;5;66;03m# print(novopreco)\u001b[39;00m\n",
      "\u001b[1;31mTypeError\u001b[0m: string indices must be integers, not 'dict'"
     ]
    }
   ],
   "source": [
    "precos = {\"celular\": 1500, \"camera\": 1000, \"fone de ouvido\": 800, \"monitor\": 3000}\n",
    "\n",
    "for preco in precos:\n",
    "    print(preco)\n",
    "    # if preco <= 1000:    \n",
    "    #  novopreco = preco * 1.1\n",
    "    # print(novopreco)\n"
   ]
  },
  {
   "cell_type": "markdown",
   "metadata": {},
   "source": [
    "### Exercício 4\n",
    " - Edite o programa antigo para ter os 2 dicionários, o de preços originais e o de novos preços\n",
    " - Em seguida calcule o valor total de reajuste em R$ que teve entre a lista de produtos original e a lista final\n"
   ]
  },
  {
   "cell_type": "code",
   "execution_count": null,
   "metadata": {},
   "outputs": [],
   "source": []
  },
  {
   "cell_type": "markdown",
   "metadata": {},
   "source": [
    "\n",
    "### Exercício 5\n",
    "- Uma empresa está analisando os resultados de vendas do 1º semestre de 2022 e 2023\n",
    "- Qual foi o % de crescimento de cada mês de 2023 em relação a 2022?\n",
    "- Depois de calcular isso, calcule o valor total de crescimento de 2023 em relação a 2022"
   ]
  },
  {
   "cell_type": "code",
   "execution_count": null,
   "metadata": {},
   "outputs": [],
   "source": [
    "vendas_22 = {\"jan\": 15000, \"fev\": 15500, \"mar\": 14000, \"abr\": 16600, \"mai\": 16300, \"jun\": 17000}\n",
    "vendas_23 = {\"jan\": 17000, \"fev\": 15000, \"mar\": 17500, \"abr\": 16900, \"mai\": 16000, \"jun\": 18500}"
   ]
  },
  {
   "cell_type": "markdown",
   "metadata": {},
   "source": [
    "### Exercício 6 - Desafio\n",
    "- No final da reunião de apresentação dos números, seu chefe perguntou:\n",
    "- E se nos meses de 2023 que a gente vendeu menos do que 2022 a gente tivesse pelo menos empatado com 2022 (ou seja, se nos meses de 2023 em que as vendas foram menores do que o mesmo mês em 2022, o valor de vendas tivesse sido igual a 2022)\n",
    "- Qual teria sido o nosso crescimento de 2023 frente a 2022?"
   ]
  },
  {
   "cell_type": "code",
   "execution_count": null,
   "metadata": {},
   "outputs": [],
   "source": []
  }
 ],
 "metadata": {
  "kernelspec": {
   "display_name": "Python 3",
   "language": "python",
   "name": "python3"
  },
  "language_info": {
   "codemirror_mode": {
    "name": "ipython",
    "version": 3
   },
   "file_extension": ".py",
   "mimetype": "text/x-python",
   "name": "python",
   "nbconvert_exporter": "python",
   "pygments_lexer": "ipython3",
   "version": "3.12.2"
  }
 },
 "nbformat": 4,
 "nbformat_minor": 2
}
